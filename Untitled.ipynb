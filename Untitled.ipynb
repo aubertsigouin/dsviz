{
 "cells": [
  {
   "cell_type": "code",
   "execution_count": 12,
   "metadata": {},
   "outputs": [],
   "source": [
    "import pandas as pd"
   ]
  },
  {
   "cell_type": "code",
   "execution_count": 13,
   "metadata": {},
   "outputs": [],
   "source": [
    "df = pd.read_csv('heatmap_data.csv')\n"
   ]
  },
  {
   "cell_type": "code",
   "execution_count": 67,
   "metadata": {
    "scrolled": false
   },
   "outputs": [],
   "source": [
    "df['mobile_text'] = list(\n",
    "    map(\n",
    "        lambda x: df['text'][x].replace(\n",
    "            \"Cette profession n'a pas été\", \n",
    "            \"Les \" + \"{}\".format(\" \".join(df['variable'][x].split()[1:])).lower() + \" n'ont pas été\"\n",
    "                     ) +'.', \n",
    "        range(len(df))\n",
    "    )\n",
    ")\n",
    "\n",
    "df['mobile_text'] = list(\n",
    "    map(\n",
    "        lambda x: df['text'][x].replace(\n",
    "            \"cette profession.\", \n",
    "            \"les \" +\"{}\".format(\" \".join(df['variable'][x].split()[1:])).lower()\n",
    "                     ), \n",
    "        range(len(df))\n",
    "    )\n",
    ")\n",
    "\n",
    "df['mobile_text'] = list(\n",
    "    map(\n",
    "        lambda x: df['text'][x].replace(\n",
    "            \"cette profession\", \n",
    "            \"les \" +\"{}\".format(\" \".join(df['variable'][x].split()[1:])).lower()\n",
    "                     ), \n",
    "        range(len(df))\n",
    "    )\n",
    ")"
   ]
  },
  {
   "cell_type": "code",
   "execution_count": 69,
   "metadata": {},
   "outputs": [
    {
     "data": {
      "text/plain": [
       "\"Cette profession n'a pas été <br>l'objet d'un diagnostic dans la région\""
      ]
     },
     "execution_count": 69,
     "metadata": {},
     "output_type": "execute_result"
    }
   ],
   "source": [
    "df['mobile_text'][3]"
   ]
  },
  {
   "cell_type": "code",
   "execution_count": null,
   "metadata": {},
   "outputs": [],
   "source": []
  }
 ],
 "metadata": {
  "kernelspec": {
   "display_name": "Python 3",
   "language": "python",
   "name": "python3"
  },
  "language_info": {
   "codemirror_mode": {
    "name": "ipython",
    "version": 3
   },
   "file_extension": ".py",
   "mimetype": "text/x-python",
   "name": "python",
   "nbconvert_exporter": "python",
   "pygments_lexer": "ipython3",
   "version": "3.6.6"
  }
 },
 "nbformat": 4,
 "nbformat_minor": 2
}
